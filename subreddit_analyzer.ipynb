{
 "cells": [
  {
   "cell_type": "code",
   "execution_count": 1,
   "metadata": {},
   "outputs": [],
   "source": [
    "import requests\n",
    "from datetime import datetime as dt\n",
    "import matplotlib.pyplot as plt\n",
    "from nltk.corpus import stopwords\n",
    "from sklearn.feature_extraction.text import CountVectorizer\n",
    "from sklearn.feature_extraction.text import TfidfTransformer\n",
    "import pickle\n",
    "import pandas as pd\n",
    "import time as tm"
   ]
  },
  {
   "cell_type": "code",
   "execution_count": 2,
   "metadata": {},
   "outputs": [],
   "source": [
    "api = \"https://api.pushshift.io/reddit/search/submission?subreddit=\""
   ]
  },
  {
   "cell_type": "code",
   "execution_count": 3,
   "metadata": {},
   "outputs": [],
   "source": [
    "def get_model_and_features():\n",
    "    with open('clf_v2.pkl', 'rb') as f:\n",
    "        clf = pickle.load(f)\n",
    "    with open('features_weights.pkl', 'rb') as f:\n",
    "        feature_weight_list = pickle.load(f)\n",
    "    return clf, feature_weight_list"
   ]
  },
  {
   "cell_type": "code",
   "execution_count": 4,
   "metadata": {},
   "outputs": [],
   "source": [
    "def config_CV():\n",
    "    clf, feature_weight_list = get_model_and_features()\n",
    "    stop = set(stopwords.words('english'))\n",
    "    cv = CountVectorizer(stop_words=stop, max_df=0.5, min_df=1, lowercase=True, ngram_range=(1,1), strip_accents='ascii', vocabulary=feature_weight_list)\n",
    "    return clf, cv"
   ]
  },
  {
   "cell_type": "code",
   "execution_count": 5,
   "metadata": {},
   "outputs": [],
   "source": [
    "# subreddit = input(\"Enter subreddit: \")\n",
    "subreddit = \"Conservative\"\n",
    "#1/2/2022 in unix\n",
    "start = 1641099600\n",
    "#5/26/2022 in unix time\n",
    "end = 1653623999\n",
    "#call limit\n",
    "limit = 500\n",
    "\n",
    "# #tester\n",
    "# end = 1641154362"
   ]
  },
  {
   "cell_type": "code",
   "execution_count": 6,
   "metadata": {},
   "outputs": [],
   "source": [
    "def get_posts_from_sub(subreddit, start, end, limit):\n",
    "    submissions_list = []\n",
    "    timestamp_list = []\n",
    "    counter = start\n",
    "    break_counter = 0\n",
    "    try:\n",
    "        while counter <= end and break_counter < 5:\n",
    "            endpoint = f'{api}{subreddit}&after={counter}&before={end}&limit={limit}'\n",
    "            req = requests.get(endpoint)\n",
    "            submissions = req.json()\n",
    "            submissions  = submissions['data']\n",
    "            if len(submissions) == 0:\n",
    "                break_counter +=1\n",
    "                counter += 1\n",
    "                print(\"broke from the break counter i guess\")\n",
    "            else:\n",
    "                try:\n",
    "                    for submission in submissions:\n",
    "                        submissions_list.append(submission['title'])\n",
    "                        timestamp_list.append(dt.utcfromtimestamp(submission['created_utc']).date())\n",
    "                        counter = submission['created_utc']\n",
    "                        break_counter = 0\n",
    "                except Exception as e_mid:\n",
    "                    print(f' Error at mid lvl, {e_mid}')\n",
    "                    counter +=1\n",
    "                    tm.sleep(1)\n",
    "                    continue\n",
    "            print(\"success\")\n",
    "    except Exception as e:\n",
    "        print(endpoint)\n",
    "        print(f'Error at top lvl, {e}')\n",
    "        return submissions_list, timestamp_list\n",
    "        # print(f'Top level error {e.with_traceback()}')\n",
    "    return submissions_list, timestamp_list\n"
   ]
  },
  {
   "cell_type": "code",
   "execution_count": 7,
   "metadata": {},
   "outputs": [],
   "source": [
    "def vectorize_posts(subreddit, start, end, limit):\n",
    "    clf, cv = config_CV()\n",
    "    submissions_list, timestamp_list = get_posts_from_sub(subreddit, start, end, limit)\n",
    "    word_count_vector = cv.fit_transform(submissions_list)\n",
    "    tfid_transformer = TfidfTransformer(smooth_idf=True, use_idf=True)\n",
    "    tfid_transformer.fit(word_count_vector)\n",
    "    tfid_vector = tfid_transformer.transform(word_count_vector)\n",
    "    feature_names = cv.get_feature_names_out()\n",
    "    df = pd.DataFrame(tfid_vector.toarray(), columns=feature_names)\n",
    "    predictions = clf.predict(df)\n",
    "    return predictions, timestamp_list\n"
   ]
  },
  {
   "cell_type": "code",
   "execution_count": 8,
   "metadata": {},
   "outputs": [
    {
     "name": "stdout",
     "output_type": "stream",
     "text": [
      "success\n",
      "success\n",
      "success\n",
      "success\n",
      "success\n",
      "success\n",
      "success\n",
      "success\n",
      "success\n",
      "https://api.pushshift.io/reddit/search/submission?subreddit=Conservative&after=1641313263&before=1653623999&limit=500\n",
      "Error at top lvl, Expecting value: line 1 column 1 (char 0)\n"
     ]
    },
    {
     "name": "stderr",
     "output_type": "stream",
     "text": [
      "c:\\Users\\steve\\anaconda3\\envs\\PythonData\\lib\\site-packages\\sklearn\\feature_extraction\\text.py:1208: UserWarning: Upper case characters found in vocabulary while 'lowercase' is True. These entries will not be matched with any documents\n",
      "  warnings.warn(\n"
     ]
    }
   ],
   "source": [
    "preds, times = vectorize_posts(subreddit, start, end, limit)"
   ]
  },
  {
   "cell_type": "code",
   "execution_count": 9,
   "metadata": {},
   "outputs": [
    {
     "data": {
      "text/html": [
       "<div>\n",
       "<style scoped>\n",
       "    .dataframe tbody tr th:only-of-type {\n",
       "        vertical-align: middle;\n",
       "    }\n",
       "\n",
       "    .dataframe tbody tr th {\n",
       "        vertical-align: top;\n",
       "    }\n",
       "\n",
       "    .dataframe thead th {\n",
       "        text-align: right;\n",
       "    }\n",
       "</style>\n",
       "<table border=\"1\" class=\"dataframe\">\n",
       "  <thead>\n",
       "    <tr style=\"text-align: right;\">\n",
       "      <th></th>\n",
       "      <th>prediction</th>\n",
       "    </tr>\n",
       "    <tr>\n",
       "      <th>timestamp</th>\n",
       "      <th></th>\n",
       "    </tr>\n",
       "  </thead>\n",
       "  <tbody>\n",
       "    <tr>\n",
       "      <th>2022-01-02</th>\n",
       "      <td>0.511905</td>\n",
       "    </tr>\n",
       "    <tr>\n",
       "      <th>2022-01-03</th>\n",
       "      <td>0.496437</td>\n",
       "    </tr>\n",
       "    <tr>\n",
       "      <th>2022-01-04</th>\n",
       "      <td>0.497797</td>\n",
       "    </tr>\n",
       "  </tbody>\n",
       "</table>\n",
       "</div>"
      ],
      "text/plain": [
       "            prediction\n",
       "timestamp             \n",
       "2022-01-02    0.511905\n",
       "2022-01-03    0.496437\n",
       "2022-01-04    0.497797"
      ]
     },
     "execution_count": 9,
     "metadata": {},
     "output_type": "execute_result"
    }
   ],
   "source": [
    "df = pd.DataFrame(preds, columns=['prediction'])\n",
    "df['timestamp'] = times\n",
    "df = df.groupby('timestamp').agg({'prediction':'mean'})\n",
    "df.head()"
   ]
  }
 ],
 "metadata": {
  "interpreter": {
   "hash": "bca96345a7f22c66cc2719fb9636a85b768ac8ff341f61afc63ea46e6bee51b9"
  },
  "kernelspec": {
   "display_name": "Python 3.9.6 ('PythonData')",
   "language": "python",
   "name": "python3"
  },
  "language_info": {
   "codemirror_mode": {
    "name": "ipython",
    "version": 3
   },
   "file_extension": ".py",
   "mimetype": "text/x-python",
   "name": "python",
   "nbconvert_exporter": "python",
   "pygments_lexer": "ipython3",
   "version": "3.9.6"
  },
  "orig_nbformat": 4
 },
 "nbformat": 4,
 "nbformat_minor": 2
}
