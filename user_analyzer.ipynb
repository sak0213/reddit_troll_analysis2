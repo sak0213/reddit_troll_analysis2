{
 "cells": [
  {
   "cell_type": "code",
   "execution_count": 1,
   "metadata": {},
   "outputs": [],
   "source": [
    "#this will print some high-level  stats on a user's account"
   ]
  },
  {
   "cell_type": "code",
   "execution_count": 2,
   "metadata": {},
   "outputs": [],
   "source": [
    "from keys import client_id, secret_key, username, user_agent, password\n",
    "import praw\n",
    "from datetime import datetime as dt\n",
    "import matplotlib.pyplot as plt"
   ]
  },
  {
   "cell_type": "code",
   "execution_count": 3,
   "metadata": {},
   "outputs": [],
   "source": [
    "reddit = praw.Reddit(client_id=client_id, client_secret=secret_key,username=username,password=password,user_agent=user_agent)"
   ]
  },
  {
   "cell_type": "code",
   "execution_count": 4,
   "metadata": {},
   "outputs": [],
   "source": [
    "redditor_name = input(\"Enter a redditor name: \")\n",
    "# redditor_name = \"\""
   ]
  },
  {
   "cell_type": "code",
   "execution_count": 5,
   "metadata": {},
   "outputs": [],
   "source": [
    "def get_post_count(post_instance):\n",
    "    post_count = 0\n",
    "    for post in post_instance:\n",
    "        post_count += 1\n",
    "    return post_count"
   ]
  },
  {
   "cell_type": "code",
   "execution_count": 6,
   "metadata": {},
   "outputs": [],
   "source": [
    "def get_comment_count(comment_instance):\n",
    "    comment_count = 0\n",
    "    for comment in comment_instance:\n",
    "        comment_count += 1\n",
    "    return comment_count"
   ]
  },
  {
   "cell_type": "code",
   "execution_count": 7,
   "metadata": {},
   "outputs": [],
   "source": [
    "def get_posts_per_day(post_instance, post_count):\n",
    "    dates = []\n",
    "    unique_dates = []\n",
    "    for post in post_instance:\n",
    "        dates.append(dt.utcfromtimestamp(post.created_utc).date())\n",
    "    for date in dates:\n",
    "        if date not in unique_dates:\n",
    "            unique_dates.append(date)\n",
    "    ppd = round(post_count / len(unique_dates),2)\n",
    "    return ppd\n"
   ]
  },
  {
   "cell_type": "code",
   "execution_count": 8,
   "metadata": {},
   "outputs": [],
   "source": [
    "def get_posting_habits(post_instance):\n",
    "    subreddits = []\n",
    "    for post in post_instance:\n",
    "        subreddits.append(post.subreddit.display_name)\n",
    "    unique_subs = []\n",
    "    for sub in subreddits:\n",
    "        if sub not in unique_subs:\n",
    "            unique_subs.append(sub)\n",
    "    sub_counts = []\n",
    "    for sub in unique_subs:\n",
    "        counter = 0\n",
    "        for i in subreddits:\n",
    "            if sub == i:\n",
    "                counter += 1\n",
    "        sub_counts.append(counter)\n",
    "    combined = list(zip(unique_subs, sub_counts))\n",
    "    combined.sort(key=lambda x: x[1], reverse=True)\n",
    "    plt.figure(figsize=(10,5))\n",
    "    plt.bar([x[0] for x in combined[:5]], [x[1] for x in combined[:5]], align='center')\n",
    "    plt.title(\"Subreddits with the most posts\")\n",
    "    plt.show()"
   ]
  },
  {
   "cell_type": "code",
   "execution_count": 9,
   "metadata": {},
   "outputs": [],
   "source": [
    "def get_account_details(redditor_name):\n",
    "    redditor_obj = reddit.redditor(redditor_name)\n",
    "    print(\"Redditor name:\", redditor_obj.name)\n",
    "    print(\"Redditor account created:\", dt.utcfromtimestamp(redditor_obj.created_utc))\n",
    "    print(\"Post Karma: \", redditor_obj.link_karma)\n",
    "    print(\"Comment Karma: \", redditor_obj.comment_karma)\n",
    "    print(\"Number of comments:\", get_comment_count(redditor_obj.comments.new(limit=None)))\n",
    "    post_count = get_post_count(redditor_obj.submissions.new(limit=None))\n",
    "    print(\"Number of posts:\", post_count)\n",
    "    print(\"Posts per day:\", get_posts_per_day(redditor_obj.submissions.new(limit=None), post_count))\n",
    "    if post_count == 1000:\n",
    "        print(\"*****Only last 1000 posts were analyzed*****\")\n",
    "    get_posting_habits(redditor_obj.submissions.new(limit=None))"
   ]
  },
  {
   "cell_type": "code",
   "execution_count": 10,
   "metadata": {},
   "outputs": [
    {
     "name": "stdout",
     "output_type": "stream",
     "text": [
      "Redditor name: saurin212\n",
      "Redditor account created: 2020-11-01 04:19:18\n",
      "Post Karma:  177988\n",
      "Comment Karma:  1713\n",
      "Number of comments: 1000\n",
      "Number of posts: 1000\n",
      "Posts per day: 43.48\n",
      "*****Only last 1000 posts were analyzed*****\n"
     ]
    },
    {
     "data": {
      "image/png": "[encoded data removed]",
      "text/plain": [
       "<Figure size 720x360 with 1 Axes>"
      ]
     },
     "metadata": {
      "needs_background": "light"
     },
     "output_type": "display_data"
    }
   ],
   "source": [
    "get_account_details(redditor_name)\n",
    "# get_account_details(\"saurin212\")"
   ]
  }
 ],
 "metadata": {
  "interpreter": {
   "hash": "bca96345a7f22c66cc2719fb9636a85b768ac8ff341f61afc63ea46e6bee51b9"
  },
  "kernelspec": {
   "display_name": "Python 3.9.6 ('PythonData')",
   "language": "python",
   "name": "python3"
  },
  "language_info": {
   "codemirror_mode": {
    "name": "ipython",
    "version": 3
   },
   "file_extension": ".py",
   "mimetype": "text/x-python",
   "name": "python",
   "nbconvert_exporter": "python",
   "pygments_lexer": "ipython3",
   "version": "3.9.6"
  },
  "orig_nbformat": 4
 },
 "nbformat": 4,
 "nbformat_minor": 2
}
