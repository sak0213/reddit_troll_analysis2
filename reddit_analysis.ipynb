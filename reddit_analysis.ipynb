{
 "cells": [
  {
   "cell_type": "markdown",
   "metadata": {},
   "source": [
    "I'm getting a little bored of this project, so i'll add a brief analysis of the original 307k posts i pulled from the pushshift API. My original goal was to see if bot activity increased or decreased around the time of Russia's invasion of Ukraine then quickly got out of hand when i realized making a model to predict bots was going to be difficult. I pulled all reddit posts from 2/1/2022 through 6/10/2022 from the following subreddits:"
   ]
  },
  {
   "cell_type": "code",
   "execution_count": 1,
   "metadata": {},
   "outputs": [],
   "source": [
    "import psycopg2\n",
    "conn = psycopg2.connect(dbname='reddit-db', user=\"postgres\", host='localhost', password='password', port='5432')\n",
    "cur = conn.cursor()\n",
    "\n",
    "get_subreddit_info_sql = \"\"\"\n",
    "select subreddit, count(*) as \"Number of Posts\"\n",
    "from \n",
    "\t(select split_part(permalink, '/',3) as subreddit \n",
    " \tfrom posts) as sub\n",
    "group by subreddit\n",
    "order by subreddit asc\n",
    "\"\"\"\n",
    "cur.execute(get_subreddit_info_sql)\n",
    "subreddit_summary = cur.fetchall()\n",
    "subreddit_names = []\n",
    "subreddit_post_count =  []\n",
    "for i in subreddit_summary:\n",
    "    subreddit_names.append(i[0])\n",
    "    subreddit_post_count.append(i[1])"
   ]
  },
  {
   "cell_type": "code",
   "execution_count": 2,
   "metadata": {},
   "outputs": [
    {
     "data": {
      "image/png": "[encoded data removed]",
      "text/plain": [
       "<Figure size 432x288 with 1 Axes>"
      ]
     },
     "metadata": {
      "needs_background": "light"
     },
     "output_type": "display_data"
    }
   ],
   "source": [
    "import matplotlib.pyplot as plt\n",
    "plt.bar(subreddit_names, subreddit_post_count, width=0.5, color='blue')\n",
    "plt.xticks(rotation=90)\n",
    "plt.show()"
   ]
  },
  {
   "cell_type": "markdown",
   "metadata": {},
   "source": [
    "r/WorldNews represents the most posts, followed by r/conspiracy, then r/Conservative. I wanted to get multiple political points, but reddit is inherently more libreral of a platform. It's safe to assume worldnews & r/politics generally have more liberal posts, which is why there is so little activity in r/Liberal when compared to r/Conservative."
   ]
  },
  {
   "cell_type": "markdown",
   "metadata": {},
   "source": [
    "Using the \"Post\" model for troll classification, we'll look at what percentage each subreddit has. The following code pulls all of the posts in our DB, tokenizes & vectorzes every word in the title, then runs the results through a random forest classifier:"
   ]
  },
  {
   "cell_type": "code",
   "execution_count": 3,
   "metadata": {},
   "outputs": [],
   "source": [
    "import pandas as pd\n",
    "from nltk.corpus import stopwords\n",
    "from sklearn.feature_extraction.text import CountVectorizer\n",
    "from sklearn.feature_extraction.text import TfidfTransformer\n",
    "import pickle\n",
    "stop = set(stopwords.words('english'))\n",
    "with open('clf_v2.pkl', 'rb') as f:\n",
    "    clf = pickle.load(f)\n",
    "with open('features_weights.pkl', 'rb') as f:\n",
    "    feature_weight_list = pickle.load(f)\n",
    "cv = CountVectorizer(stop_words=stop, max_df=0.5, min_df=1, lowercase=False, ngram_range=(1,1), strip_accents='ascii', vocabulary=feature_weight_list)"
   ]
  },
  {
   "cell_type": "code",
   "execution_count": 4,
   "metadata": {},
   "outputs": [],
   "source": [
    "all_posts_and_subreddits_sql = \"\"\"\n",
    "select title, subreddit\n",
    "from (\n",
    "\tselect title, split_part(permalink, '/', 3) as subreddit\n",
    "\tfrom posts) as subQ\n",
    "\"\"\"\n",
    "cur.execute(all_posts_and_subreddits_sql)\n",
    "all_posts_with_subreddits = cur.fetchall()\n",
    "all_posts_posts = []\n",
    "all_posts_subreddits = []\n",
    "for i in all_posts_with_subreddits:\n",
    "    all_posts_posts.append(i[0])\n",
    "    all_posts_subreddits.append(i[1])"
   ]
  },
  {
   "cell_type": "code",
   "execution_count": 5,
   "metadata": {},
   "outputs": [],
   "source": [
    "def get_vector_df(posts, cv):\n",
    "    word_count_vector = cv.fit_transform(posts)\n",
    "    tfidf_transformer = TfidfTransformer(smooth_idf=True, use_idf=True)\n",
    "    tfidf_transformer.fit(word_count_vector)\n",
    "    tfidf_vector = tfidf_transformer.transform(word_count_vector)\n",
    "    feature_names = cv.get_feature_names_out()\n",
    "    df = pd.DataFrame(tfidf_vector.toarray(), columns=feature_names)\n",
    "    return df"
   ]
  },
  {
   "cell_type": "code",
   "execution_count": 6,
   "metadata": {},
   "outputs": [],
   "source": [
    "predictions = clf.predict(get_vector_df(all_posts_posts, cv))"
   ]
  },
  {
   "cell_type": "code",
   "execution_count": 7,
   "metadata": {},
   "outputs": [],
   "source": [
    "df_predictions_and_subreddits = pd.DataFrame({'Subreddit': all_posts_subreddits, 'Prediction': predictions})\n",
    "df_predictions_and_subreddits_grouped_by_sub = df_predictions_and_subreddits.groupby('Subreddit', as_index=False).agg({'Prediction': 'mean'})\n",
    "df_predictions_and_subreddits_grouped_by_sub.sort_values(by='Prediction', ascending=False, inplace=True)"
   ]
  },
  {
   "cell_type": "code",
   "execution_count": 8,
   "metadata": {},
   "outputs": [
    {
     "data": {
      "image/png": "[encoded data removed]",
      "text/plain": [
       "<Figure size 432x288 with 1 Axes>"
      ]
     },
     "metadata": {
      "needs_background": "light"
     },
     "output_type": "display_data"
    }
   ],
   "source": [
    "plt.bar(df_predictions_and_subreddits_grouped_by_sub['Subreddit'], df_predictions_and_subreddits_grouped_by_sub['Prediction'], width=0.5, color='blue')\n",
    "plt.xticks(rotation=90)\n",
    "plt.ylabel('Troll Percentage')\n",
    "plt.show()"
   ]
  },
  {
   "cell_type": "markdown",
   "metadata": {},
   "source": [
    "Here we see a general trend in the larger subreddits having the highest percentage of posts classified as \"Troll\" content, while somre more niche subreddits are a little lower. Lets look at the data over time."
   ]
  },
  {
   "cell_type": "code",
   "execution_count": 9,
   "metadata": {},
   "outputs": [],
   "source": [
    "times = []\n",
    "time_sql = \"\"\"\n",
    "select created from posts\n",
    "\"\"\"\n",
    "cur.execute(time_sql)\n",
    "all_times = cur.fetchall()\n",
    "for i in all_times:\n",
    "    times.append(i[0])\n",
    "df_predictions_and_subreddits['created_unix'] = times"
   ]
  },
  {
   "cell_type": "code",
   "execution_count": 10,
   "metadata": {},
   "outputs": [
    {
     "data": {
      "text/html": [
       "<div>\n",
       "<style scoped>\n",
       "    .dataframe tbody tr th:only-of-type {\n",
       "        vertical-align: middle;\n",
       "    }\n",
       "\n",
       "    .dataframe tbody tr th {\n",
       "        vertical-align: top;\n",
       "    }\n",
       "\n",
       "    .dataframe thead th {\n",
       "        text-align: right;\n",
       "    }\n",
       "</style>\n",
       "<table border=\"1\" class=\"dataframe\">\n",
       "  <thead>\n",
       "    <tr style=\"text-align: right;\">\n",
       "      <th></th>\n",
       "      <th>Subreddit</th>\n",
       "      <th>Prediction</th>\n",
       "      <th>created_unix</th>\n",
       "      <th>created_date</th>\n",
       "    </tr>\n",
       "  </thead>\n",
       "  <tbody>\n",
       "    <tr>\n",
       "      <th>0</th>\n",
       "      <td>benshapiro</td>\n",
       "      <td>0</td>\n",
       "      <td>1643692642</td>\n",
       "      <td>2022-02-01</td>\n",
       "    </tr>\n",
       "    <tr>\n",
       "      <th>1</th>\n",
       "      <td>benshapiro</td>\n",
       "      <td>0</td>\n",
       "      <td>1643694926</td>\n",
       "      <td>2022-02-01</td>\n",
       "    </tr>\n",
       "    <tr>\n",
       "      <th>2</th>\n",
       "      <td>benshapiro</td>\n",
       "      <td>0</td>\n",
       "      <td>1643698588</td>\n",
       "      <td>2022-02-01</td>\n",
       "    </tr>\n",
       "    <tr>\n",
       "      <th>3</th>\n",
       "      <td>benshapiro</td>\n",
       "      <td>0</td>\n",
       "      <td>1643721306</td>\n",
       "      <td>2022-02-01</td>\n",
       "    </tr>\n",
       "    <tr>\n",
       "      <th>4</th>\n",
       "      <td>benshapiro</td>\n",
       "      <td>1</td>\n",
       "      <td>1643722224</td>\n",
       "      <td>2022-02-01</td>\n",
       "    </tr>\n",
       "  </tbody>\n",
       "</table>\n",
       "</div>"
      ],
      "text/plain": [
       "    Subreddit  Prediction  created_unix created_date\n",
       "0  benshapiro           0    1643692642   2022-02-01\n",
       "1  benshapiro           0    1643694926   2022-02-01\n",
       "2  benshapiro           0    1643698588   2022-02-01\n",
       "3  benshapiro           0    1643721306   2022-02-01\n",
       "4  benshapiro           1    1643722224   2022-02-01"
      ]
     },
     "execution_count": 10,
     "metadata": {},
     "output_type": "execute_result"
    }
   ],
   "source": [
    "import datetime\n",
    "def unix_to_date(unix_timestamp):\n",
    "    return datetime.datetime.fromtimestamp(unix_timestamp).strftime('%Y-%m-%d')\n",
    "df_predictions_and_subreddits['created_date'] = df_predictions_and_subreddits['created_unix'].apply(unix_to_date)\n",
    "df_predictions_and_subreddits.head()"
   ]
  },
  {
   "cell_type": "code",
   "execution_count": 11,
   "metadata": {},
   "outputs": [
    {
     "data": {
      "image/png": "[encoded data removed]",
      "text/plain": [
       "<Figure size 432x288 with 1 Axes>"
      ]
     },
     "metadata": {
      "needs_background": "light"
     },
     "output_type": "display_data"
    }
   ],
   "source": [
    "df_predictions_and_subreddits_groupby_date = df_predictions_and_subreddits.groupby('created_date', as_index=False).agg({'Prediction': 'mean'})\n",
    "plt.plot(df_predictions_and_subreddits_groupby_date['created_date'], df_predictions_and_subreddits_groupby_date['Prediction'])\n",
    "plt.ylabel('Troll Percentage')\n",
    "plt.xticks(df_predictions_and_subreddits_groupby_date['created_date'][::7], rotation=90)\n",
    "plt.axvline(x='2022-02-24', color='r')\n",
    "plt.plot(df_predictions_and_subreddits_groupby_date['created_date'], df_predictions_and_subreddits_groupby_date['Prediction'].rolling(7).mean())\n",
    "plt.legend(['Troll Percentage', 'Russian Invasion Begins', '7-Day Rolling Avg'])\n",
    "plt.show()"
   ]
  },
  {
   "cell_type": "markdown",
   "metadata": {},
   "source": [
    "The vertical red line shows when Russia invaded Ukraine (Feb 24), and we can see from the moving average that there is a downward trend occuring about a week afterward.\n",
    "\n",
    "It looks like there's another increase in activity around 5-24. Although I'm not sure what the conversation was. We'll do some NLP on the date range 5-24 through 6-8 next:"
   ]
  },
  {
   "cell_type": "code",
   "execution_count": 12,
   "metadata": {},
   "outputs": [],
   "source": [
    "def date_to_unix(date):\n",
    "    return int(datetime.datetime.strptime(date, '%Y-%m-%d').timestamp())\n",
    "start_date_unix = date_to_unix('2022-05-23')\n",
    "end_date_unix = date_to_unix('2022-06-08')"
   ]
  },
  {
   "cell_type": "code",
   "execution_count": 13,
   "metadata": {},
   "outputs": [],
   "source": [
    "specific_time_sql = \"\"\"\n",
    "select string_agg(title, ',') from posts where created >= %s and created <= %s and author not like 'HovercraftNo1808'\n",
    "\"\"\"\n",
    "cur.execute(specific_time_sql, (start_date_unix, end_date_unix))\n",
    "posts_within_range_response = cur.fetchall()\n",
    "posts_within_range_list = []\n",
    "for i in posts_within_range_response:\n",
    "    posts_within_range_list.append(str(i[0]))"
   ]
  },
  {
   "cell_type": "code",
   "execution_count": 14,
   "metadata": {},
   "outputs": [],
   "source": [
    "from nltk.tokenize import word_tokenize\n",
    "def get_corpus(source_list):\n",
    "    corpus = []\n",
    "    for i in source_list:\n",
    "        words = word_tokenize(i)\n",
    "        corpus.append(' '.join([w for w in words if w not in stop]))\n",
    "    return corpus\n",
    "corpus = get_corpus(posts_within_range_list)"
   ]
  },
  {
   "cell_type": "code",
   "execution_count": 18,
   "metadata": {},
   "outputs": [],
   "source": [
    "def generate_top_ngrams(corpus):\n",
    "    vec = CountVectorizer(ngram_range=(4, 4), lowercase=False)\n",
    "    vec.fit(corpus)\n",
    "    bag_of_words = vec.transform(corpus)\n",
    "    sum_words = bag_of_words.sum(axis=0)\n",
    "    words_freq = [(word, sum_words[0, idx]) for word, idx in vec.vocabulary_.items()]\n",
    "    words_freq =sorted(words_freq, key = lambda x: x[1], reverse=True)\n",
    "    return words_freq[:10]\n",
    "top_ngrams = generate_top_ngrams(corpus)[:10]\n",
    "x,y = map(list,zip(*top_ngrams))\n",
    "output = list(zip(x,y))\n",
    "df_ngrams = pd.DataFrame(output, columns=['ngram', 'count'])"
   ]
  },
  {
   "cell_type": "code",
   "execution_count": 19,
   "metadata": {},
   "outputs": [
    {
     "name": "stdout",
     "output_type": "stream",
     "text": [
      "                              ngram  count\n",
      "0    targeted attack Israeli forces     31\n",
      "1     New evidence suggests Shireen     30\n",
      "2     evidence suggests Shireen Abu     30\n",
      "3        suggests Shireen Abu Akleh     30\n",
      "4          Shireen Abu Akleh killed     30\n",
      "5         Abu Akleh killed targeted     30\n",
      "6      Akleh killed targeted attack     30\n",
      "7    killed targeted attack Israeli     30\n",
      "8  Texas elementary school shooting     24\n",
      "9           Johnny Depp Amber Heard     24\n"
     ]
    }
   ],
   "source": [
    "print(df_ngrams)"
   ]
  },
  {
   "cell_type": "markdown",
   "metadata": {},
   "source": [
    "This was a busy few days, With Shireen Aby Akleh being killed, Uvalde Shooting, and JD AH court case making headlines. I removed user 'HovercraftNo1808' because they post duplicate posts several times a day, so this time we wont have to do that. Lets remove duplicates and get another look:"
   ]
  },
  {
   "cell_type": "code",
   "execution_count": 20,
   "metadata": {},
   "outputs": [
    {
     "name": "stdout",
     "output_type": "stream",
     "text": [
      "                              ngram  count\n",
      "0           Johnny Depp Amber Heard     21\n",
      "1  Texas elementary school shooting     20\n",
      "2           Russia Ukraine war News     17\n",
      "3             Texas Gov Greg Abbott     14\n",
      "4         Nancy Pelosi husband Paul     13\n",
      "5    killed Texas elementary school     11\n",
      "6    targeted attack Israeli forces     11\n",
      "7      killed Texas school shooting     10\n",
      "8       Johnny Depp wins defamation     10\n",
      "9       defamation case Amber Heard     10\n"
     ]
    }
   ],
   "source": [
    "specific_time_sql_no_dups = \"\"\"\n",
    "select string_agg(title, ',') from (\n",
    "    select distinct title from posts where created >= %s and created <= %s and title not like %s\n",
    ") as subQ\n",
    "\"\"\"\n",
    "reddit_live_thread_blocker = '%Live Thread%'\n",
    "cur.execute(specific_time_sql_no_dups, (start_date_unix, end_date_unix, reddit_live_thread_blocker))\n",
    "posts_within_range_response_no_dup = cur.fetchall()\n",
    "posts_within_range_list_no_dup = []\n",
    "for i in posts_within_range_response_no_dup:\n",
    "    posts_within_range_list_no_dup.append(str(i[0]))\n",
    "corpus_no_dup = get_corpus(posts_within_range_list_no_dup)\n",
    "top_ngrams_no_dup = generate_top_ngrams(corpus_no_dup)[:10]\n",
    "x_no_dup,y_no_dup = map(list,zip(*top_ngrams_no_dup))\n",
    "output_no_dup = list(zip(x_no_dup,y_no_dup))\n",
    "df_ngrams_no_dups = pd.DataFrame(output_no_dup, columns=['ngram', 'count'])\n",
    "print(df_ngrams_no_dups)"
   ]
  }
 ],
 "metadata": {
  "interpreter": {
   "hash": "bca96345a7f22c66cc2719fb9636a85b768ac8ff341f61afc63ea46e6bee51b9"
  },
  "kernelspec": {
   "display_name": "Python 3.9.6 ('PythonData')",
   "language": "python",
   "name": "python3"
  },
  "language_info": {
   "codemirror_mode": {
    "name": "ipython",
    "version": 3
   },
   "file_extension": ".py",
   "mimetype": "text/x-python",
   "name": "python",
   "nbconvert_exporter": "python",
   "pygments_lexer": "ipython3",
   "version": "3.9.6"
  },
  "orig_nbformat": 4
 },
 "nbformat": 4,
 "nbformat_minor": 2
}
