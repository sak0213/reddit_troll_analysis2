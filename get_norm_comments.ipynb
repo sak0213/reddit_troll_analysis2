{
 "cells": [
  {
   "cell_type": "code",
   "execution_count": null,
   "metadata": {},
   "outputs": [],
   "source": [
    "from keys import db_user, db_password, db_name, db_host, db_port\n",
    "import psycopg2\n",
    "import time\n",
    "import requests"
   ]
  },
  {
   "cell_type": "code",
   "execution_count": null,
   "metadata": {},
   "outputs": [],
   "source": [
    "conn = psycopg2.connect(dbname=db_name, user=db_user, password=db_password, host=db_host, port=db_port)\n",
    "cur = conn.cursor()"
   ]
  },
  {
   "cell_type": "code",
   "execution_count": null,
   "metadata": {},
   "outputs": [],
   "source": [
    "api = \"https://api.pushshift.io/reddit/search/comment?author=\"\n",
    "#4/1/2015 00:00:00\n",
    "after_time = 1427860800\n",
    "#1/1/2018 00:00:00\n",
    "final_time = 1514782800\n",
    "#response limit\n",
    "response_limit = 15"
   ]
  },
  {
   "cell_type": "code",
   "execution_count": null,
   "metadata": {},
   "outputs": [],
   "source": [
    "sql = \"\"\"select norm_user_name from public.norm_users\"\"\""
   ]
  },
  {
   "cell_type": "code",
   "execution_count": null,
   "metadata": {},
   "outputs": [],
   "source": [
    "# Get all sus_user_names and save to list\n",
    "names = []\n",
    "cur.execute(sql)\n",
    "for row in cur:\n",
    "    names.append(row[0])"
   ]
  },
  {
   "cell_type": "code",
   "execution_count": null,
   "metadata": {},
   "outputs": [],
   "source": [
    "sql_insert = \"\"\"\n",
    "insert into norm_user_comments (author, comment_body, comment_id, created_utc, link_id, subreddit_id, subreddit) \n",
    "VALUES(%s, %s, %s, %s, %s, %s, %s)\n",
    "\"\"\""
   ]
  },
  {
   "cell_type": "code",
   "execution_count": null,
   "metadata": {},
   "outputs": [],
   "source": [
    "for name in names[:10000]:\n",
    "    counter = after_time\n",
    "    user_comment_count = 0\n",
    "    response_length = 1\n",
    "    try:\n",
    "        while counter < final_time and user_comment_count < 15 and response_length > 0:\n",
    "            request = requests.get(f'{api}{name}&after={counter}&before={final_time}&size={response_limit}')\n",
    "            response = request.json()\n",
    "            submissions = response['data']\n",
    "            response_length = len(submissions)\n",
    "            try:\n",
    "                counter = submissions[-1]['created_utc']\n",
    "                for submission in submissions:\n",
    "                    try:\n",
    "                        cur.execute(sql_insert, (submission['author'], submission['body'], submission['id'], submission['created_utc'], submission['link_id'], submission['subreddit_id'], submission['subreddit']))\n",
    "                        conn.commit()\n",
    "                        user_comment_count += 1\n",
    "                    except Exception as e:\n",
    "                        print(f'submission error ---->{e}')\n",
    "                        next\n",
    "            except Exception as e:\n",
    "                print(f'user error ---->{e}')\n",
    "                time.sleep(1)\n",
    "                next\n",
    "    except Exception as e:\n",
    "        print(f'query error ---->{e}, {request.status_code}, retry after ')\n",
    "        time.sleep(1)\n",
    "        next\n"
   ]
  }
 ],
 "metadata": {
  "interpreter": {
   "hash": "bca96345a7f22c66cc2719fb9636a85b768ac8ff341f61afc63ea46e6bee51b9"
  },
  "kernelspec": {
   "display_name": "Python 3.9.6 ('PythonData')",
   "language": "python",
   "name": "python3"
  },
  "language_info": {
   "codemirror_mode": {
    "name": "ipython",
    "version": 3
   },
   "file_extension": ".py",
   "mimetype": "text/x-python",
   "name": "python",
   "nbconvert_exporter": "python",
   "pygments_lexer": "ipython3",
   "version": "3.9.6"
  },
  "orig_nbformat": 4
 },
 "nbformat": 4,
 "nbformat_minor": 2
}
